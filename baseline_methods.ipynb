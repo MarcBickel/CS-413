{
 "cells": [
  {
   "cell_type": "code",
   "execution_count": null,
   "metadata": {},
   "outputs": [],
   "source": [
    "import torch\n",
    "import numpy as np\n",
    "import matplotlib.pyplot as plt\n",
    "import rawpy\n",
    "import cv2\n",
    "import math"
   ]
  },
  {
   "cell_type": "markdown",
   "metadata": {},
   "source": [
    "## Resizing images to 500px the long edge by interpolation"
   ]
  },
  {
   "cell_type": "code",
   "execution_count": null,
   "metadata": {},
   "outputs": [],
   "source": [
    "def long_edge_resize500(img):\n",
    "    height = img.shape[0]\n",
    "    width = img.shape[1]\n",
    "    if height>width:\n",
    "        new_h = 500\n",
    "        new_w = int(width/height*500) \n",
    "    else:\n",
    "        new_w=500\n",
    "        new_h=int(height/width*500)\n",
    "    print(\"new shape is {},{}\".format(new_w, new_h))\n",
    "    return cv2.resize(img, (new_w, new_h), cv2.INTER_AREA)\n",
    "        \n",
    "    "
   ]
  },
  {
   "cell_type": "markdown",
   "metadata": {},
   "source": [
    "## Conversion from RGB to LAB and only isolate L"
   ]
  },
  {
   "cell_type": "code",
   "execution_count": null,
   "metadata": {},
   "outputs": [],
   "source": [
    "raw_RGB = rawpy.imread(\"data/a0001-jmac_DSC1459.dng\").postprocess()\n",
    "expertA_RGB = cv2.cvtColor(cv2.imread(\"/media/samuel/HDD1TB/data.csail.mit.edu/graphics/fivek/img/tiff16_a/a0001-jmac_DSC1459.tif\", cv2.IMREAD_COLOR), cv2.COLOR_BGR2RGB)\n",
    "#expertB_RGB = cv2.cvtColor(cv2.imread(\"/media/samuel/HDD1TB/data.csail.mit.edu/graphics/fivek/img/tiff16_b/a0001-jmac_DSC1459.tif\", cv2.IMREAD_COLOR), cv2.COLOR_BGR2RGB)\n",
    "#expertC_RGB = cv2.cvtColor(cv2.imread(\"/media/samuel/HDD1TB/data.csail.mit.edu/graphics/fivek/img/tiff16_c/a0001-jmac_DSC1459.tif\", cv2.IMREAD_COLOR), cv2.COLOR_BGR2RGB)\n",
    "#expertD_RGB = cv2.cvtColor(cv2.imread(\"/media/samuel/HDD1TB/data.csail.mit.edu/graphics/fivek/img/tiff16_d/a0001-jmac_DSC1459.tif\", cv2.IMREAD_COLOR), cv2.COLOR_BGR2RGB)\n",
    "#expertE_RGB = cv2.cvtColor(cv2.imread(\"/media/samuel/HDD1TB/data.csail.mit.edu/graphics/fivek/img/tiff16_e/a0001-jmac_DSC1459.tif\", cv2.IMREAD_COLOR), cv2.COLOR_BGR2RGB)"
   ]
  },
  {
   "cell_type": "code",
   "execution_count": null,
   "metadata": {},
   "outputs": [],
   "source": [
    "def basic_showImg(img, size=4):\n",
    "    plt.figure(figsize=(size,size))\n",
    "    plt.imshow(img)\n",
    "    plt.show()"
   ]
  },
  {
   "cell_type": "code",
   "execution_count": null,
   "metadata": {},
   "outputs": [],
   "source": [
    "basic_showImg(raw_RGB)\n",
    "basic_showImg(expertA_RGB)"
   ]
  },
  {
   "cell_type": "code",
   "execution_count": null,
   "metadata": {},
   "outputs": [],
   "source": [
    "raw_RGB = long_edge_resize500(raw_RGB)\n",
    "expertA_RGB = long_edge_resize500(expertA_RGB)"
   ]
  },
  {
   "cell_type": "code",
   "execution_count": null,
   "metadata": {},
   "outputs": [],
   "source": [
    "def sampled_luminance(rawRGB, editRGB, n_samples=51):\n",
    "    rawLAB = cv2.cvtColor(rawRGB, cv2.COLOR_RGB2Lab)\n",
    "    editLAB = cv2.cvtColor(editRGB, cv2.COLOR_RGB2Lab)\n",
    "    raw_lum = rawLAB[:,:,0].flatten()/255*100\n",
    "    edit_lum = editLAB[:,:,0].flatten()/255*100\n",
    "    if raw_lum.shape <= edit_lum.shape :\n",
    "        idx = np.random.randint(0,raw_lum.shape, n_samples)\n",
    "    else : idx = np.random.randint(0,edit_lum.shape, n_samples)\n",
    "        \n",
    "    raw_sampled = raw_lum[idx]\n",
    "    edit_sampled = edit_lum[idx]\n",
    "    return raw_sampled, edit_sampled"
   ]
  },
  {
   "cell_type": "code",
   "execution_count": null,
   "metadata": {},
   "outputs": [],
   "source": [
    "sampled_luminance(raw_RGB, expertA_RGB)"
   ]
  },
  {
   "cell_type": "raw",
   "metadata": {},
   "source": [
    "redo this for all images (or a 100) so matrix nx51\n",
    "then do gaussian process regression on it to find model\n"
   ]
  },
  {
   "cell_type": "code",
   "execution_count": null,
   "metadata": {},
   "outputs": [],
   "source": [
    "from sklearn.gaussian_process import GaussianProcessRegressor\n",
    "raw_sampled, edit_sampled = sampled_luminance(raw_RGB, expertA_RGB)\n",
    "raw_sampled = raw_sampled.reshape(1, -1)\n",
    "edit_sampled = edit_sampled.reshape(1, -1)\n",
    "\n",
    "reg = GaussianProcessRegressor()"
   ]
  },
  {
   "cell_type": "code",
   "execution_count": null,
   "metadata": {},
   "outputs": [],
   "source": [
    "reg.fit(raw_sampled, edit_sampled)"
   ]
  },
  {
   "cell_type": "code",
   "execution_count": null,
   "metadata": {},
   "outputs": [],
   "source": [
    "reg.predict(raw_sampled)"
   ]
  },
  {
   "cell_type": "code",
   "execution_count": null,
   "metadata": {},
   "outputs": [],
   "source": []
  }
 ],
 "metadata": {
  "kernelspec": {
   "display_name": "Python 3",
   "language": "python",
   "name": "python3"
  },
  "language_info": {
   "codemirror_mode": {
    "name": "ipython",
    "version": 3
   },
   "file_extension": ".py",
   "mimetype": "text/x-python",
   "name": "python",
   "nbconvert_exporter": "python",
   "pygments_lexer": "ipython3",
   "version": "3.7.5"
  }
 },
 "nbformat": 4,
 "nbformat_minor": 4
}
