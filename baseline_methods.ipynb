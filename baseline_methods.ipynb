{
 "cells": [
  {
   "cell_type": "code",
   "execution_count": null,
   "metadata": {},
   "outputs": [],
   "source": [
    "import torch\n",
    "import numpy as np\n",
    "import matplotlib.pyplot as plt\n",
    "import rawpy\n",
    "import cv2\n",
    "import math"
   ]
  },
  {
   "cell_type": "markdown",
   "metadata": {},
   "source": [
    "## Resizing images to 500px the long edge by interpolation"
   ]
  },
  {
   "cell_type": "code",
   "execution_count": null,
   "metadata": {},
   "outputs": [],
   "source": [
    "def long_edge_resize500(img):\n",
    "    height = img.shape[0]\n",
    "    width = img.shape[1]\n",
    "    if height>width:\n",
    "        new_h = 500\n",
    "        new_w = int(width/height*500) \n",
    "    else:\n",
    "        new_w=500\n",
    "        new_h=int(height/width*500)\n",
    "    print(\"new shape is {},{}\".format(new_w, new_h))\n",
    "    return cv2.resize(img, (new_w, new_h), cv2.INTER_AREA)\n",
    "        \n",
    "    "
   ]
  },
  {
   "cell_type": "markdown",
   "metadata": {},
   "source": [
    "## Conversion from RGB to LAB and only isolate L"
   ]
  },
  {
   "cell_type": "code",
   "execution_count": null,
   "metadata": {},
   "outputs": [],
   "source": [
    "raw_RGB = rawpy.imread(\"data/a0001-jmac_DSC1459.dng\").postprocess()\n",
    "expertA_RGB = cv2.cvtColor(cv2.imread(\"/media/samuel/HDD1TB/data.csail.mit.edu/graphics/fivek/img/tiff16_a/a0001-jmac_DSC1459.tif\", cv2.IMREAD_COLOR), cv2.COLOR_BGR2RGB)\n",
    "#expertB_RGB = cv2.cvtColor(cv2.imread(\"/media/samuel/HDD1TB/data.csail.mit.edu/graphics/fivek/img/tiff16_b/a0001-jmac_DSC1459.tif\", cv2.IMREAD_COLOR), cv2.COLOR_BGR2RGB)\n",
    "#expertC_RGB = cv2.cvtColor(cv2.imread(\"/media/samuel/HDD1TB/data.csail.mit.edu/graphics/fivek/img/tiff16_c/a0001-jmac_DSC1459.tif\", cv2.IMREAD_COLOR), cv2.COLOR_BGR2RGB)\n",
    "#expertD_RGB = cv2.cvtColor(cv2.imread(\"/media/samuel/HDD1TB/data.csail.mit.edu/graphics/fivek/img/tiff16_d/a0001-jmac_DSC1459.tif\", cv2.IMREAD_COLOR), cv2.COLOR_BGR2RGB)\n",
    "#expertE_RGB = cv2.cvtColor(cv2.imread(\"/media/samuel/HDD1TB/data.csail.mit.edu/graphics/fivek/img/tiff16_e/a0001-jmac_DSC1459.tif\", cv2.IMREAD_COLOR), cv2.COLOR_BGR2RGB)"
   ]
  },
  {
   "cell_type": "code",
   "execution_count": null,
   "metadata": {},
   "outputs": [],
   "source": [
    "def basic_showImg(img, size=4):\n",
    "    plt.figure(figsize=(size,size))\n",
    "    plt.imshow(img)\n",
    "    plt.show()"
   ]
  },
  {
   "cell_type": "code",
   "execution_count": null,
   "metadata": {},
   "outputs": [],
   "source": [
    "basic_showImg(raw_RGB)\n",
    "basic_showImg(expertA_RGB)"
   ]
  },
  {
   "cell_type": "code",
   "execution_count": null,
   "metadata": {},
   "outputs": [],
   "source": [
    "raw_RGB = long_edge_resize500(raw_RGB)\n",
    "expertA_RGB = long_edge_resize500(expertA_RGB)\n"
   ]
  },
  {
   "cell_type": "code",
   "execution_count": null,
   "metadata": {},
   "outputs": [],
   "source": [
    "# https://docs.opencv.org/3.4/de/d25/imgproc_color_conversions.html#color_convert_rgb_lab\n",
    "raw_LAB = cv2.cvtColor(raw_RGB, cv2.COLOR_RGB2Lab)\n",
    "expertA_LAB = cv2.cvtColor(expertA_RGB, cv2.COLOR_RGB2Lab)"
   ]
  },
  {
   "cell_type": "code",
   "execution_count": null,
   "metadata": {},
   "outputs": [],
   "source": [
    "raw_lum = raw_LAB[:,:,0]\n",
    "expertA_lum = expertA_LAB[:,:,0]"
   ]
  },
  {
   "cell_type": "code",
   "execution_count": null,
   "metadata": {},
   "outputs": [],
   "source": [
    "raw_lum"
   ]
  },
  {
   "cell_type": "code",
   "execution_count": null,
   "metadata": {},
   "outputs": [],
   "source": [
    "expertA_lum"
   ]
  },
  {
   "cell_type": "code",
   "execution_count": null,
   "metadata": {},
   "outputs": [],
   "source": [
    "raw_lum/255*100"
   ]
  },
  {
   "cell_type": "code",
   "execution_count": null,
   "metadata": {},
   "outputs": [],
   "source": []
  },
  {
   "cell_type": "code",
   "execution_count": null,
   "metadata": {},
   "outputs": [],
   "source": []
  }
 ],
 "metadata": {
  "kernelspec": {
   "display_name": "Python 3",
   "language": "python",
   "name": "python3"
  },
  "language_info": {
   "codemirror_mode": {
    "name": "ipython",
    "version": 3
   },
   "file_extension": ".py",
   "mimetype": "text/x-python",
   "name": "python",
   "nbconvert_exporter": "python",
   "pygments_lexer": "ipython3",
   "version": "3.7.5"
  }
 },
 "nbformat": 4,
 "nbformat_minor": 4
}
